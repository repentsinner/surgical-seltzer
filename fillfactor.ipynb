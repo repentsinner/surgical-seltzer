{
 "cells": [
  {
   "cell_type": "code",
   "execution_count": 1,
   "metadata": {},
   "outputs": [
    {
     "name": "stdout",
     "output_type": "stream",
     "text": [
      "fill factor: 18.1%\n"
     ]
    },
    {
     "data": {
      "text/plain": [
       "True"
      ]
     },
     "execution_count": 1,
     "metadata": {},
     "output_type": "execute_result"
    }
   ],
   "source": [
    "# import opencv\n",
    "import cv2\n",
    "import matplotlib.pyplot as plt\n",
    "import numpy as np\n",
    "\n",
    "# load image\n",
    "img = cv2.imread('./grid1200.png')\n",
    "grey = cv2.cvtColor(img, cv2.COLOR_BGR2GRAY)\n",
    "\n",
    "# Initialize sensible parameters for cv2.SimpleBlobDetector\n",
    "params = cv2.SimpleBlobDetector_Params()\n",
    "\n",
    "# Filter by color\n",
    "params.filterByColor = True\n",
    "params.blobColor = 255\n",
    "\n",
    "# Filter by circularity\n",
    "params.filterByCircularity = True\n",
    "params.minCircularity = 0.75\n",
    "\n",
    "# Filter by convexity\n",
    "params.filterByConvexity = True\n",
    "params.minConvexity = 0.75\n",
    "\n",
    "detector = cv2.SimpleBlobDetector_create(params)\n",
    "\n",
    "keypoints = detector.detect(grey)\n",
    "\n",
    "img_with_keypoints = cv2.drawKeypoints(img, keypoints, np.array([]), (255,0,0), cv2.DRAW_MATCHES_FLAGS_DRAW_RICH_KEYPOINTS)\n",
    "\n",
    "# images with a lot of blobs are likely to fail in the findCirclesGrid function,\n",
    "# so crop the image to near the centroid of the blob mass\n",
    "\n",
    "\n",
    "# locate the pixel grid tolerant of camera distortion\n",
    "ret, corners = cv2.findCirclesGrid(grey, (20, 20), None, flags=(cv2.CALIB_CB_SYMMETRIC_GRID ), blobDetector=detector )\n",
    "\n",
    "img_with_corners = cv2.drawChessboardCorners(img.copy(), (20,20), corners, ret)\n",
    "\n",
    "np_corners = np.array(corners).reshape(20, 20, 2)\n",
    "\n",
    "# find top left and bottom right corners\n",
    "top_left = np.rint(np_corners[0][0]).astype(int)\n",
    "top_right = np.rint(np_corners[0][-1]).astype(int)\n",
    "bottom_left = np.rint(np_corners[-1][0]).astype(int)\n",
    "bottom_right = np.rint(np_corners[-1][-1]).astype(int)\n",
    "\n",
    "# two dimensional distances to account for rotation\n",
    "width = np.linalg.norm(top_left - top_right).astype(int)\n",
    "height = np.linalg.norm(top_left - bottom_left).astype(int)\n",
    "\n",
    "# prepare ideal object points to map corners to\n",
    "objp = np.zeros((20*20,3), np.float32)\n",
    "# fill with grid from 0 to width, 0 to height with 20 steps\n",
    "objp[:,:2] = np.mgrid[0:width:20j,:height:20j].T.reshape(-1,2)\n",
    "\n",
    "# find homography transformation to aligned grid\n",
    "# both corners and objp are 2d arrays of 20x20 points, so I presume should\n",
    "# map corners to objp which has a dimension of height x width\n",
    "H, _ = cv2.findHomography(corners, objp)\n",
    "\n",
    "# warp image to axis-aligned planar\n",
    "# width and height clip the output?\n",
    "grey_with_warp = cv2.warpPerspective(grey, H, (width, height))\n",
    "img_with_warp_corners = cv2.warpPerspective(img_with_corners, H, (width, height))\n",
    "\n",
    "ret, grey_with_warp = cv2.threshold(grey_with_warp, 200, 255, cv2.THRESH_BINARY + cv2.THRESH_OTSU)\n",
    "\n",
    "# Find contours and find total area\n",
    "cnts = cv2.findContours(grey_with_warp, cv2.RETR_EXTERNAL, cv2.CHAIN_APPROX_SIMPLE)\n",
    "cnts = cnts[0] if len(cnts) == 2 else cnts[1]\n",
    "area = 0\n",
    "for c in cnts:\n",
    "    area += cv2.contourArea(c)\n",
    "\n",
    "print(f'fill factor: {area / (width * height) * 100:0.1f}%')\n",
    "\n",
    "# convert to RGB\n",
    "img_with_keypoints = cv2.cvtColor(img_with_keypoints, cv2.COLOR_BGR2RGB)\n",
    "img_with_corners = cv2.cvtColor(img_with_corners, cv2.COLOR_BGR2RGB)\n",
    "img_with_warp_corners = cv2.cvtColor(img_with_warp_corners, cv2.COLOR_BGR2RGB)\n",
    "grey_with_warp = cv2.cvtColor(grey_with_warp, cv2.COLOR_GRAY2RGB)\n",
    "\n",
    "# save images\n",
    "cv2.imwrite('output_1_keypoints.png', img_with_keypoints)\n",
    "cv2.imwrite('output_2_corners.png', img_with_corners)\n",
    "cv2.imwrite('output_3_warp_corners.png', img_with_warp_corners)\n",
    "cv2.imwrite('output_4_warp_thresh.png', grey_with_warp)"
   ]
  }
 ],
 "metadata": {
  "kernelspec": {
   "display_name": "Python 3",
   "language": "python",
   "name": "python3"
  },
  "language_info": {
   "codemirror_mode": {
    "name": "ipython",
    "version": 3
   },
   "file_extension": ".py",
   "mimetype": "text/x-python",
   "name": "python",
   "nbconvert_exporter": "python",
   "pygments_lexer": "ipython3",
   "version": "3.11.5"
  },
  "orig_nbformat": 4
 },
 "nbformat": 4,
 "nbformat_minor": 2
}
